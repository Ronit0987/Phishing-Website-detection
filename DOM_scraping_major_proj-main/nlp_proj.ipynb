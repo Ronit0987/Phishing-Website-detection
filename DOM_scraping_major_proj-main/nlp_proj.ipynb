{
 "cells": [
  {
   "cell_type": "code",
   "execution_count": null,
   "metadata": {},
   "outputs": [],
   "source": [
    "from bs4 import BeautifulSoup\n",
    "import enchant\n",
    "\n",
    "# Function to extract text content from p, h, and title tags\n",
    "def extract_text_from_dom(html_content):\n",
    "    soup = BeautifulSoup(html_content, 'html.parser')\n",
    "    text_content = []\n",
    "\n",
    "    # Extract text from <p> tags\n",
    "    for p_tag in soup.find_all('p'):\n",
    "        text_content.append(p_tag.get_text())\n",
    "\n",
    "    # Extract text from <h> tags (h1, h2, ..., h6)\n",
    "    for i in range(1, 7):\n",
    "        for h_tag in soup.find_all('h' + str(i)):\n",
    "            text_content.append(h_tag.get_text())\n",
    "\n",
    "    # Extract text from <title> tag\n",
    "    title_tag = soup.find('title')\n",
    "    if title_tag:\n",
    "        text_content.append(title_tag.get_text())\n",
    "\n",
    "    return ' '.join(text_content)\n",
    "\n",
    "# Function to perform spell checking\n",
    "def spell_check(text):\n",
    "    d = enchant.Dict(\"en_US\")\n",
    "    words = text.split()\n",
    "    misspelled_words = [word for word in words if not d.check(word)]\n",
    "    return misspelled_words\n",
    "\n",
    "# Function for keyword analysis\n",
    "def keyword_analysis(text):\n",
    "    # Define a list of keywords associated with phishing\n",
    "    phishing_keywords = ['login', 'password', 'account', 'verify', 'update', 'bank', 'security', 'credit', 'paypal', 'amazon', 'apple', 'social security', 'IRS']"
   ]
  }
 ],
 "metadata": {
  "kernelspec": {
   "display_name": "Python 3",
   "language": "python",
   "name": "python3"
  },
  "language_info": {
   "name": "python",
   "version": "3.9.7"
  }
 },
 "nbformat": 4,
 "nbformat_minor": 2
}
